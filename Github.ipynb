{
  "nbformat": 4,
  "nbformat_minor": 0,
  "metadata": {
    "colab": {
      "name": "Github.ipynb",
      "provenance": [],
      "authorship_tag": "ABX9TyO1yxkynWpekhE535p+lyLO",
      "include_colab_link": true
    },
    "kernelspec": {
      "name": "python3",
      "display_name": "Python 3"
    }
  },
  "cells": [
    {
      "cell_type": "markdown",
      "metadata": {
        "id": "view-in-github",
        "colab_type": "text"
      },
      "source": [
        "<a href=\"https://colab.research.google.com/github/aakr24iti/python-programming/blob/main/Github.ipynb\" target=\"_parent\"><img src=\"https://colab.research.google.com/assets/colab-badge.svg\" alt=\"Open In Colab\"/></a>"
      ]
    },
    {
      "cell_type": "code",
      "metadata": {
        "id": "m8tmzFzQNND3",
        "outputId": "3a35aaac-8b4e-454b-ff1a-8db3b7728b5e",
        "colab": {
          "base_uri": "https://localhost:8080/",
          "height": 52
        }
      },
      "source": [
        "'''\n",
        "author @aakritisharma\n",
        "Python 3.5.2\n",
        "'''\n",
        " \n",
        "#############Simple calculator#########"
      ],
      "execution_count": null,
      "outputs": [
        {
          "output_type": "execute_result",
          "data": {
            "application/vnd.google.colaboratory.intrinsic+json": {
              "type": "string"
            },
            "text/plain": [
              "'\\nauthor @aakritisharma\\nPython 3.5.2\\n'"
            ]
          },
          "metadata": {
            "tags": []
          },
          "execution_count": 1
        }
      ]
    },
    {
      "cell_type": "code",
      "metadata": {
        "id": "78gPnfdcN7m3"
      },
      "source": [
        "#agenda to learn python"
      ],
      "execution_count": null,
      "outputs": []
    },
    {
      "cell_type": "code",
      "metadata": {
        "id": "kBDqKt7dPczn",
        "outputId": "6f1fe6b0-63c0-42ee-c155-dcb2d3fb489d",
        "colab": {
          "base_uri": "https://localhost:8080/"
        }
      },
      "source": [
        " \n",
        "number1=int(input('Enter first number'))"
      ],
      "execution_count": null,
      "outputs": [
        {
          "output_type": "stream",
          "text": [
            "Enter first number24\n"
          ],
          "name": "stdout"
        }
      ]
    },
    {
      "cell_type": "code",
      "metadata": {
        "id": "caYPfjfwQBdL",
        "outputId": "63511a05-74c6-4b37-b703-476535106ffc",
        "colab": {
          "base_uri": "https://localhost:8080/"
        }
      },
      "source": [
        "number2=int(input('Enter second number'))"
      ],
      "execution_count": null,
      "outputs": [
        {
          "output_type": "stream",
          "text": [
            "Enter second number30\n"
          ],
          "name": "stdout"
        }
      ]
    },
    {
      "cell_type": "code",
      "metadata": {
        "id": "xqpqJi8bdWZ2"
      },
      "source": [
        "addition=number1+number2\n",
        "multiplication=number1*number2\n",
        "substraction=number1-number2\n",
        "division=number1/number2\n",
        "modulo=number1%number2\n",
        "floorD=number1//number2\n",
        "exponent=number1**number2"
      ],
      "execution_count": null,
      "outputs": []
    },
    {
      "cell_type": "code",
      "metadata": {
        "id": "nAckfXNTdiRV",
        "outputId": "2ee5a600-b5fc-4e10-d60f-5b97cd44a499",
        "colab": {
          "base_uri": "https://localhost:8080/"
        }
      },
      "source": [
        "print(\"addition is: \\t\",addition)\n",
        "print(\"multiplication is: \\t\",multiplication)\n",
        "print(\"substraction is: \\t\",substraction)\n",
        "print(\"division is: \\t\",division)\n",
        "print(\"modulo is: \\t\",modulo)\n",
        "print(\"floorD is: \\t\", floorD)\n",
        "print(\"exponent is: \\t\",exponent)"
      ],
      "execution_count": null,
      "outputs": [
        {
          "output_type": "stream",
          "text": [
            "addition is: \t 54\n",
            "multiplication is: \t 720\n",
            "substraction is: \t -6\n",
            "division is: \t 0.8\n",
            "modulo is: \t 24\n",
            "floorD is: \t 0\n",
            "exponent is: \t 254880876153761202627773829926908776677376\n"
          ],
          "name": "stdout"
        }
      ]
    }
  ]
}